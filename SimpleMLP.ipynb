{
 "cells": [
  {
   "cell_type": "markdown",
   "metadata": {},
   "source": [
    "Imports"
   ]
  },
  {
   "cell_type": "code",
   "execution_count": 10,
   "metadata": {},
   "outputs": [],
   "source": [
    "# Copyright (c) Microsoft. All rights reserved.\n",
    "\n",
    "# Licensed under the MIT license. See LICENSE.md file in the project root\n",
    "# for full license information.\n",
    "# ==============================================================================\n",
    "\n",
    "import argparse\n",
    "import numpy as np\n",
    "import sys\n",
    "import os\n",
    "import matplotlib.pyplot as plt\n"
   ]
  },
  {
   "cell_type": "code",
   "execution_count": 2,
   "metadata": {},
   "outputs": [],
   "source": [
    "import tensorflow as tf\n",
    "from tensorflow import keras\n",
    "from tensorflow.keras import layers"
   ]
  },
  {
   "cell_type": "code",
   "execution_count": 3,
   "metadata": {},
   "outputs": [
    {
     "name": "stdout",
     "output_type": "stream",
     "text": [
      "True\n",
      "[PhysicalDevice(name='/physical_device:GPU:0', device_type='GPU')]\n",
      "WARNING:tensorflow:From C:\\Users\\Lemming\\AppData\\Local\\Temp\\ipykernel_5932\\1148016718.py:4: is_gpu_available (from tensorflow.python.framework.test_util) is deprecated and will be removed in a future version.\n",
      "Instructions for updating:\n",
      "Use `tf.config.list_physical_devices('GPU')` instead.\n",
      "True\n"
     ]
    }
   ],
   "source": [
    "print(tf.test.is_built_with_cuda())\n",
    "print (tf.config.list_physical_devices('GPU') )\n",
    "\n",
    "print (tf.test.is_gpu_available())"
   ]
  },
  {
   "cell_type": "markdown",
   "metadata": {},
   "source": [
    "OS Utils"
   ]
  },
  {
   "cell_type": "code",
   "execution_count": null,
   "metadata": {},
   "outputs": [],
   "source": [
    "# #abs_path = os.path.dirname(os.path.abspath(__file__))\n",
    "\n",
    "# def check_path(path):\n",
    "#     if not os.path.exists(path):\n",
    "#         readme_file = os.path.normpath(os.path.join(\n",
    "#             os.path.dirname(path), \"..\", \"README.md\"))\n",
    "#         raise RuntimeError(\n",
    "#             \"File '%s' does not exist. Please follow the instructions at %s to download and prepare it.\" % (path, readme_file))"
   ]
  },
  {
   "cell_type": "markdown",
   "metadata": {},
   "source": [
    "Setup Input Data\n",
    "\n",
    "Deserializer expects the format `sequenceId <tab> path <tab> label`\n",
    "\n"
   ]
  },
  {
   "cell_type": "code",
   "execution_count": 6,
   "metadata": {},
   "outputs": [],
   "source": [
    "# def dataset_label(index, path):\n",
    "# \tfoldername = os.path.basename(os.path.dirname(path))\n",
    "# \treturn str(index).zfill(5) + \"\\t\" + os.path.normpath(path) + \"\\t\" + os.path.normpath(foldername)"
   ]
  },
  {
   "cell_type": "markdown",
   "metadata": {},
   "source": [
    "We just need to parse through the folders and build our labels.\n",
    "It's easy because we can just base it on directory name\n",
    "\n",
    "For each folder in the data directory, find all files with the type `.png`, `jpg`, `jpeg`, `.gif`\n",
    "\n",
    "concat the output of dataset_label into an array"
   ]
  },
  {
   "cell_type": "code",
   "execution_count": 4,
   "metadata": {},
   "outputs": [],
   "source": [
    "DATA_DIR = os.path.normpath(\"\\\\\\\\NAS12139F\\\\Business\\\\Collections\\\\\")"
   ]
  },
  {
   "cell_type": "code",
   "execution_count": 3,
   "metadata": {},
   "outputs": [],
   "source": [
    "\n",
    "\n",
    "# # For each folder in the data directory, find all files with the type `.png`, `jpg`, `jpeg`, `.gif`\n",
    "# # concat the output of dataset_label into an array, then save to file\n",
    "\n",
    "# def label_builder():\n",
    "\n",
    "# \tlabel_filename = os.path.dirname(DATA_DIR) + \".txt\"\n",
    "# \tprint (\"Looking for label file: \" + label_filename)\n",
    "# \t# if file exists, return it's path\n",
    "# \tif os.path.isfile(label_filename):\n",
    "# \t\tprint (\"Found label file: \" + label_filename)\n",
    "# \t\treturn os.path.join(label_filename)\n",
    "\n",
    "# \tprint (\"Creating label file\")\n",
    "# \tlabel_array = []\n",
    "# \tclass_track = []\n",
    "# \tindex = 0\n",
    "# \t# directory tree traversal\n",
    "# \tfor root, dirs, files in os.walk(DATA_DIR):\n",
    "# \t\tfor file in files:\n",
    "# \t\t\tif file.endswith(\".png\") or file.endswith(\".jpg\") or file.endswith(\".jpeg\") or file.endswith(\".gif\"):\n",
    "# \t\t\t\tlabel_array.append(dataset_label(index, os.path.join(root, file)))\n",
    "# \t\t\t\tclass_track.append(os.path.normpath(os.path.basename(os.path.dirname(os.path.join(root, file)))))\n",
    "# \t\t\t\tindex += 1\n",
    "# \t# save labels to file\n",
    "# \twith open(label_filename, \"w\") as f:\n",
    "# \t\tfor label in label_array:\n",
    "# \t\t\tif len(label) != len(label.encode()):\n",
    "# \t\t\t\tcontinue\n",
    "# \t\t\tf.write(label)\n",
    "# \t\t\tf.write(\"\\n\")\n",
    "# \tprint (\"Label file saved to: \" + label_filename)\n",
    "# \tNUM_CLASSES = len(np.unique(class_track))\n",
    "# \tprint(\"Number of classes: \" + str(NUM_CLASSES))\n",
    "\n",
    "# \t#return path to file\n",
    "# \treturn label_filename\n",
    "\n",
    "# Generate Labels\n",
    "\n",
    "# label_builder()"
   ]
  },
  {
   "cell_type": "markdown",
   "metadata": {},
   "source": [
    "Generate a dataset\n",
    "\n",
    "(Using Keras now)"
   ]
  },
  {
   "cell_type": "code",
   "execution_count": 5,
   "metadata": {},
   "outputs": [],
   "source": [
    "BATCH_SIZE = 32\n",
    "AUTOTUNE = tf.data.AUTOTUNE\n",
    "\n",
    "data_augmentation = tf.keras.Sequential([\n",
    "  \tlayers.RandomFlip(\"horizontal_and_vertical\"),\n",
    "  \tlayers.RandomRotation(0.2),\n",
    "  \tlayers.RandomZoom(0.1),\n",
    "])\n"
   ]
  },
  {
   "cell_type": "code",
   "execution_count": 34,
   "metadata": {},
   "outputs": [
    {
     "name": "stdout",
     "output_type": "stream",
     "text": [
      "Found 1338 files belonging to 10 classes.\n",
      "Using 1071 files for training.\n",
      "Found 1338 files belonging to 10 classes.\n",
      "Using 267 files for validation.\n"
     ]
    },
    {
     "data": {
      "text/plain": [
       "<CacheDataset shapes: ((None, 256, 256, 3), (None,)), types: (tf.float32, tf.int32)>"
      ]
     },
     "execution_count": 34,
     "metadata": {},
     "output_type": "execute_result"
    }
   ],
   "source": [
    "seed_in = 5421\n",
    "image_size = (256, 256)\n",
    "\n",
    "train_ds = keras.preprocessing.image_dataset_from_directory(\n",
    "\tDATA_DIR,\n",
    "\tvalidation_split=0.2,\n",
    "\tsubset=\"training\",\n",
    "\tseed=seed_in,\n",
    "\timage_size=image_size,\n",
    "\tbatch_size=BATCH_SIZE,\n",
    ")\n",
    "val_ds = keras.preprocessing.image_dataset_from_directory(\n",
    "\tDATA_DIR,\n",
    "\tvalidation_split=0.2,\n",
    "\tsubset=\"validation\",\n",
    "\tseed=seed_in,\n",
    "\timage_size=image_size,\n",
    "\tbatch_size=BATCH_SIZE,\n",
    ")\n",
    "\n",
    "class_track = train_ds.class_names\n",
    "\n",
    "train_ds = train_ds.prefetch(buffer_size=32)\n",
    "val_ds = val_ds.prefetch(buffer_size=32)\n",
    "\n",
    "train_ds.cache()\n",
    "\n"
   ]
  },
  {
   "cell_type": "code",
   "execution_count": null,
   "metadata": {},
   "outputs": [],
   "source": [
    "print(\"Number of classes: \" + str(len(class_track)))\n",
    "\n",
    "print(\"Classes: \" + str(class_track))"
   ]
  },
  {
   "cell_type": "markdown",
   "metadata": {},
   "source": [
    "Build a model\n",
    "\n",
    "We'll build a small version of the Xception network. We haven't particularly tried to optimize the architecture; if you want to do a systematic search for the best model configuration, consider using KerasTuner.\n",
    "\n",
    "Note that:\n",
    "\n",
    "    We start the model with the data_augmentation preprocessor, followed by a Rescaling layer.\n",
    "    We include a Dropout layer before the final classification layer.\n",
    "\n",
    "https://keras.io/examples/vision/image_classification_from_scratch/\n"
   ]
  },
  {
   "cell_type": "markdown",
   "metadata": {},
   "source": [
    "# Training Funcs"
   ]
  },
  {
   "cell_type": "code",
   "execution_count": 18,
   "metadata": {},
   "outputs": [],
   "source": [
    "def trainModel(model, name, epochs=20):\n",
    "\n",
    "   callbacks = [\n",
    "      #keras.callbacks.ModelCheckpoint(\"models/augment_{epoch}.h5\"),\n",
    "      keras.callbacks.ModelCheckpoint(\"models/\"+ name +\"_best.h5\", save_best_only=True, monitor=\"val_accuracy\"),\n",
    "   ]\n",
    "   return model.fit(\n",
    "      train_ds, epochs=epochs, callbacks=callbacks, validation_data=val_ds,\n",
    "   )\n"
   ]
  },
  {
   "cell_type": "markdown",
   "metadata": {},
   "source": [
    "# Model Classes\n",
    "\n"
   ]
  },
  {
   "cell_type": "code",
   "execution_count": 13,
   "metadata": {},
   "outputs": [],
   "source": [
    "def swish(x):\n",
    "\treturn x * tf.nn.sigmoid(x)"
   ]
  },
  {
   "cell_type": "code",
   "execution_count": 17,
   "metadata": {},
   "outputs": [],
   "source": [
    "# augment dataset\n",
    "inputs = keras.Input(shape=image_size + (3,))\n",
    "aug_model = data_augmentation(inputs)"
   ]
  },
  {
   "cell_type": "code",
   "execution_count": 18,
   "metadata": {},
   "outputs": [
    {
     "name": "stdout",
     "output_type": "stream",
     "text": [
      "Model: \"sequential_2\"\n",
      "_________________________________________________________________\n",
      "Layer (type)                 Output Shape              Param #   \n",
      "=================================================================\n",
      "conv2d (Conv2D)              (None, 256, 256, 32)      896       \n",
      "_________________________________________________________________\n",
      "conv2d_1 (Conv2D)            (None, 256, 256, 32)      9248      \n",
      "_________________________________________________________________\n",
      "max_pooling2d (MaxPooling2D) (None, 128, 128, 32)      0         \n",
      "_________________________________________________________________\n",
      "dropout (Dropout)            (None, 128, 128, 32)      0         \n",
      "_________________________________________________________________\n",
      "conv2d_2 (Conv2D)            (None, 128, 128, 64)      18496     \n",
      "_________________________________________________________________\n",
      "conv2d_3 (Conv2D)            (None, 128, 128, 64)      36928     \n",
      "_________________________________________________________________\n",
      "max_pooling2d_1 (MaxPooling2 (None, 64, 64, 64)        0         \n",
      "_________________________________________________________________\n",
      "dropout_1 (Dropout)          (None, 64, 64, 64)        0         \n",
      "_________________________________________________________________\n",
      "conv2d_4 (Conv2D)            (None, 62, 62, 64)        36928     \n",
      "_________________________________________________________________\n",
      "conv2d_5 (Conv2D)            (None, 60, 60, 64)        36928     \n",
      "_________________________________________________________________\n",
      "max_pooling2d_2 (MaxPooling2 (None, 30, 30, 64)        0         \n",
      "_________________________________________________________________\n",
      "dropout_2 (Dropout)          (None, 30, 30, 64)        0         \n",
      "_________________________________________________________________\n",
      "flatten (Flatten)            (None, 57600)             0         \n",
      "_________________________________________________________________\n",
      "dense (Dense)                (None, 256)               14745856  \n",
      "_________________________________________________________________\n",
      "dropout_3 (Dropout)          (None, 256)               0         \n",
      "_________________________________________________________________\n",
      "dense_1 (Dense)              (None, 73)                18761     \n",
      "=================================================================\n",
      "Total params: 14,904,041\n",
      "Trainable params: 14,904,041\n",
      "Non-trainable params: 0\n",
      "_________________________________________________________________\n"
     ]
    }
   ],
   "source": [
    "if aug_model is None:\n",
    "\tprint(\"No augmentation\")\n",
    "\tmodel = keras.models.Sequential()\n",
    "\n",
    "model = keras.models.Sequential()\n",
    "model.add(keras.layers.Conv2D(32, (3, 3),padding=\"same\", activation=swish, input_shape=image_size + (3,)))\n",
    "model.add(keras.layers.Conv2D(32, (3, 3), padding=\"same\", activation=swish))\n",
    "model.add(keras.layers.MaxPool2D(pool_size=(2, 2)))\n",
    "model.add(keras.layers.Dropout(0.25))\n",
    "\n",
    "model.add(keras.layers.Conv2D(64, (3, 3), padding=\"same\", activation=swish))\n",
    "model.add(keras.layers.Conv2D(64, (3, 3), padding=\"same\", activation=swish))\n",
    "model.add(keras.layers.MaxPool2D(pool_size=(2, 2)))\n",
    "model.add(keras.layers.Dropout(0.25))\n",
    "\n",
    "model.add(keras.layers.Conv2D(128, (3, 3), activation=swish))\n",
    "model.add(keras.layers.Conv2D(128, (3, 3), activation=swish))\n",
    "model.add(keras.layers.MaxPool2D(pool_size=(2, 2)))\n",
    "model.add(keras.layers.Dropout(0.25))\n",
    "\n",
    "model.add(keras.layers.Flatten())\n",
    "model.add(keras.layers.Dense(256,activation=swish))\n",
    "model.add(keras.layers.Dropout(0.5))\n",
    "model.add(keras.layers.Dense(len(class_track), activation='softmax'))\n",
    "\n",
    "model.compile(\n",
    "      optimizer=keras.optimizers.Adam(1e-3),\n",
    "      loss=\"sparse_categorical_crossentropy\",\n",
    "      metrics=[\"accuracy\"],\n",
    ")\n",
    "\n",
    "#model.build(input_shape=image_size + (3,))\n",
    "model.summary()"
   ]
  },
  {
   "cell_type": "code",
   "execution_count": null,
   "metadata": {},
   "outputs": [],
   "source": [
    "# Train model\n",
    "trainModel(model, \"augment\", epochs=20):"
   ]
  },
  {
   "cell_type": "markdown",
   "metadata": {},
   "source": [
    "# load example model\n",
    "model = keras.models.load_model(\"models/resenet50_trans_pooled_best.h5\")"
   ]
  },
  {
   "cell_type": "markdown",
   "metadata": {},
   "source": [
    "## Transfer Learning from ResNet50"
   ]
  },
  {
   "cell_type": "code",
   "execution_count": 23,
   "metadata": {},
   "outputs": [],
   "source": [
    "# Transfer learning model\n",
    "base_model = keras.models.Sequential()\n",
    "\n",
    "pretrained_model = keras.applications.resnet50.ResNet50(\n",
    "    include_top=False,\n",
    "    weights='imagenet',\n",
    "    pooling='avg',\n",
    "    input_shape=image_size + (3,),\n",
    ")\n",
    "\n",
    "# Freeze base model\n",
    "pretrained_model.trainable = False\n",
    "\n",
    "base_model.add(pretrained_model)\n",
    "\n",
    "base_model.add(keras.layers.Flatten())\n",
    "base_model.add(keras.layers.Dense(512, activation=swish))\n",
    "base_model.add(keras.layers.Dense(len(class_track), activation='softmax'))\n",
    "\n"
   ]
  },
  {
   "cell_type": "code",
   "execution_count": 24,
   "metadata": {},
   "outputs": [
    {
     "name": "stdout",
     "output_type": "stream",
     "text": [
      "Model: \"sequential_4\"\n",
      "_________________________________________________________________\n",
      "Layer (type)                 Output Shape              Param #   \n",
      "=================================================================\n",
      "resnet50 (Functional)        (None, 2048)              23587712  \n",
      "_________________________________________________________________\n",
      "flatten_3 (Flatten)          (None, 2048)              0         \n",
      "_________________________________________________________________\n",
      "dense_4 (Dense)              (None, 512)               1049088   \n",
      "_________________________________________________________________\n",
      "dense_5 (Dense)              (None, 10)                5130      \n",
      "=================================================================\n",
      "Total params: 24,641,930\n",
      "Trainable params: 1,054,218\n",
      "Non-trainable params: 23,587,712\n",
      "_________________________________________________________________\n"
     ]
    }
   ],
   "source": [
    "base_model.summary()"
   ]
  },
  {
   "cell_type": "markdown",
   "metadata": {},
   "source": [
    "This is our base model\n",
    "\n",
    "The ResNet50 portion is frozen, and we just train the top."
   ]
  },
  {
   "cell_type": "code",
   "execution_count": 30,
   "metadata": {},
   "outputs": [],
   "source": [
    "# load example model\n",
    "base_model = keras.models.load_model(\"models/resenet50_trans_pooled_best.h5\")"
   ]
  },
  {
   "cell_type": "code",
   "execution_count": 31,
   "metadata": {},
   "outputs": [
    {
     "name": "stdout",
     "output_type": "stream",
     "text": [
      "Epoch 1/20\n",
      "34/34 [==============================] - 38s 855ms/step - loss: 0.5998 - accuracy: 0.8263 - val_loss: 0.2776 - val_accuracy: 0.9251\n",
      "Epoch 2/20\n",
      "34/34 [==============================] - 33s 809ms/step - loss: 0.1963 - accuracy: 0.9514 - val_loss: 0.3238 - val_accuracy: 0.8801\n",
      "Epoch 3/20\n",
      "34/34 [==============================] - 33s 816ms/step - loss: 0.1407 - accuracy: 0.9748 - val_loss: 0.3073 - val_accuracy: 0.8951\n",
      "Epoch 4/20\n",
      "34/34 [==============================] - 32s 787ms/step - loss: 0.1035 - accuracy: 0.9841 - val_loss: 0.3152 - val_accuracy: 0.8989\n",
      "Epoch 5/20\n",
      "34/34 [==============================] - 32s 790ms/step - loss: 0.0698 - accuracy: 0.9925 - val_loss: 0.4119 - val_accuracy: 0.8502\n",
      "Epoch 6/20\n",
      "34/34 [==============================] - 32s 789ms/step - loss: 0.0590 - accuracy: 0.9907 - val_loss: 0.3732 - val_accuracy: 0.8689\n",
      "Epoch 7/20\n",
      "34/34 [==============================] - 33s 806ms/step - loss: 0.0532 - accuracy: 0.9935 - val_loss: 0.4783 - val_accuracy: 0.8427\n",
      "Epoch 8/20\n",
      "34/34 [==============================] - 33s 788ms/step - loss: 0.0364 - accuracy: 0.9953 - val_loss: 0.4170 - val_accuracy: 0.8427\n",
      "Epoch 9/20\n",
      "34/34 [==============================] - 33s 795ms/step - loss: 0.0587 - accuracy: 0.9841 - val_loss: 0.4431 - val_accuracy: 0.8577\n",
      "Epoch 10/20\n",
      "34/34 [==============================] - 33s 816ms/step - loss: 0.0352 - accuracy: 0.9953 - val_loss: 0.5230 - val_accuracy: 0.8052\n",
      "Epoch 11/20\n",
      "34/34 [==============================] - 33s 809ms/step - loss: 0.0420 - accuracy: 0.9925 - val_loss: 0.4863 - val_accuracy: 0.8352\n",
      "Epoch 12/20\n",
      "34/34 [==============================] - 33s 814ms/step - loss: 0.0469 - accuracy: 0.9879 - val_loss: 0.5951 - val_accuracy: 0.7903\n",
      "Epoch 13/20\n",
      "34/34 [==============================] - 34s 827ms/step - loss: 0.0540 - accuracy: 0.9916 - val_loss: 0.5202 - val_accuracy: 0.8165\n",
      "Epoch 14/20\n",
      "34/34 [==============================] - 33s 809ms/step - loss: 0.0274 - accuracy: 0.9963 - val_loss: 0.4933 - val_accuracy: 0.8277\n",
      "Epoch 15/20\n",
      "34/34 [==============================] - 35s 863ms/step - loss: 0.0162 - accuracy: 0.9953 - val_loss: 0.6943 - val_accuracy: 0.7940\n",
      "Epoch 16/20\n",
      "34/34 [==============================] - 33s 801ms/step - loss: 0.0177 - accuracy: 0.9953 - val_loss: 0.5825 - val_accuracy: 0.7978\n",
      "Epoch 17/20\n",
      "34/34 [==============================] - 33s 799ms/step - loss: 0.0225 - accuracy: 0.9935 - val_loss: 0.6792 - val_accuracy: 0.7865\n",
      "Epoch 18/20\n",
      "34/34 [==============================] - 35s 864ms/step - loss: 0.0235 - accuracy: 0.9963 - val_loss: 0.8455 - val_accuracy: 0.7678\n",
      "Epoch 19/20\n",
      "34/34 [==============================] - 34s 840ms/step - loss: 0.0146 - accuracy: 0.9972 - val_loss: 0.5886 - val_accuracy: 0.8090\n",
      "Epoch 20/20\n",
      "34/34 [==============================] - 34s 836ms/step - loss: 0.0265 - accuracy: 0.9944 - val_loss: 0.8891 - val_accuracy: 0.7416\n"
     ]
    },
    {
     "data": {
      "image/png": "[encoded data removed]",
      "text/plain": [
       "<Figure size 432x288 with 1 Axes>"
      ]
     },
     "metadata": {
      "needs_background": "light"
     },
     "output_type": "display_data"
    }
   ],
   "source": [
    "base_model.compile(optimizer=keras.optimizers.Adam(1e-3),\n",
    "              loss=\"sparse_categorical_crossentropy\",\n",
    "              metrics=[\"accuracy\"]\n",
    ")\n",
    "\n",
    "history = trainModel(base_model, \"resenet50_trans_pooled\", 20)\n",
    "\n",
    "fig1 = plt.gcf()\n",
    "plt.plot(history.history['accuracy'])\n",
    "plt.plot(history.history['val_accuracy'])\n",
    "plt.axis(ymin=0.4,ymax=1)\n",
    "plt.grid()\n",
    "plt.title('Model Accuracy')\n",
    "plt.ylabel('Accuracy')\n",
    "plt.xlabel('Epochs')\n",
    "plt.legend(['train', 'validation'])\n",
    "plt.show()"
   ]
  },
  {
   "cell_type": "markdown",
   "metadata": {},
   "source": [
    "Once we're getting good accuracy (converged on the new data), we unfreeze the model and train the whole thing.\n",
    "\n",
    "Important that we use a low learning rate so we don't make big jumps and overwrite things"
   ]
  },
  {
   "cell_type": "code",
   "execution_count": null,
   "metadata": {},
   "outputs": [],
   "source": [
    "base_model.summary()"
   ]
  },
  {
   "cell_type": "code",
   "execution_count": 32,
   "metadata": {},
   "outputs": [],
   "source": [
    "#Load the model\n",
    "model = keras.models.load_model(\"models/resenet50_trans_pooled_v2.h5\")"
   ]
  },
  {
   "cell_type": "code",
   "execution_count": 35,
   "metadata": {},
   "outputs": [
    {
     "name": "stdout",
     "output_type": "stream",
     "text": [
      "Epoch 1/20\n",
      "34/34 [==============================] - 46s 906ms/step - loss: 0.9596 - accuracy: 0.6611 - val_loss: 0.3016 - val_accuracy: 0.9064\n",
      "Epoch 2/20\n",
      "34/34 [==============================] - 34s 821ms/step - loss: 0.4668 - accuracy: 0.8739 - val_loss: 0.4238 - val_accuracy: 0.8764\n",
      "Epoch 3/20\n",
      "34/34 [==============================] - 34s 820ms/step - loss: 0.2782 - accuracy: 0.9505 - val_loss: 0.5086 - val_accuracy: 0.8464\n",
      "Epoch 4/20\n",
      "34/34 [==============================] - 34s 840ms/step - loss: 0.1766 - accuracy: 0.9851 - val_loss: 0.5762 - val_accuracy: 0.7790\n",
      "Epoch 5/20\n",
      "34/34 [==============================] - 33s 825ms/step - loss: 0.1218 - accuracy: 0.9897 - val_loss: 0.6435 - val_accuracy: 0.7753\n",
      "Epoch 6/20\n",
      "34/34 [==============================] - 33s 813ms/step - loss: 0.0884 - accuracy: 0.9907 - val_loss: 0.6952 - val_accuracy: 0.7640\n",
      "Epoch 7/20\n",
      "34/34 [==============================] - 34s 838ms/step - loss: 0.0663 - accuracy: 0.9944 - val_loss: 0.7278 - val_accuracy: 0.7528\n",
      "Epoch 8/20\n",
      "34/34 [==============================] - 33s 820ms/step - loss: 0.0497 - accuracy: 0.9963 - val_loss: 0.7578 - val_accuracy: 0.7378\n",
      "Epoch 9/20\n",
      "34/34 [==============================] - 34s 847ms/step - loss: 0.0460 - accuracy: 0.9944 - val_loss: 0.7760 - val_accuracy: 0.7303\n",
      "Epoch 10/20\n",
      "34/34 [==============================] - 34s 836ms/step - loss: 0.0361 - accuracy: 0.9953 - val_loss: 0.7893 - val_accuracy: 0.7303\n",
      "Epoch 11/20\n",
      "34/34 [==============================] - 33s 827ms/step - loss: 0.0333 - accuracy: 0.9963 - val_loss: 0.8031 - val_accuracy: 0.7266\n",
      "Epoch 12/20\n",
      "34/34 [==============================] - 35s 857ms/step - loss: 0.0252 - accuracy: 0.9972 - val_loss: 0.8157 - val_accuracy: 0.7228\n",
      "Epoch 13/20\n",
      "34/34 [==============================] - 35s 864ms/step - loss: 0.0252 - accuracy: 0.9963 - val_loss: 0.8246 - val_accuracy: 0.7228\n",
      "Epoch 14/20\n",
      "34/34 [==============================] - 35s 855ms/step - loss: 0.0248 - accuracy: 0.9935 - val_loss: 0.8376 - val_accuracy: 0.7154\n",
      "Epoch 15/20\n",
      "34/34 [==============================] - 34s 830ms/step - loss: 0.0194 - accuracy: 0.9963 - val_loss: 0.8456 - val_accuracy: 0.7191\n",
      "Epoch 16/20\n",
      "34/34 [==============================] - 35s 850ms/step - loss: 0.0206 - accuracy: 0.9944 - val_loss: 0.8506 - val_accuracy: 0.7191\n",
      "Epoch 17/20\n",
      "34/34 [==============================] - 34s 836ms/step - loss: 0.0169 - accuracy: 0.9972 - val_loss: 0.8586 - val_accuracy: 0.7041\n",
      "Epoch 18/20\n",
      "34/34 [==============================] - 35s 867ms/step - loss: 0.0170 - accuracy: 0.9953 - val_loss: 0.8653 - val_accuracy: 0.7116\n",
      "Epoch 19/20\n",
      "34/34 [==============================] - 35s 858ms/step - loss: 0.0175 - accuracy: 0.9953 - val_loss: 0.8670 - val_accuracy: 0.6966\n",
      "Epoch 20/20\n",
      "34/34 [==============================] - 36s 889ms/step - loss: 0.0129 - accuracy: 0.9963 - val_loss: 0.8707 - val_accuracy: 0.7079\n"
     ]
    },
    {
     "data": {
      "text/plain": [
       "<keras.callbacks.History at 0x280114bec70>"
      ]
     },
     "execution_count": 35,
     "metadata": {},
     "output_type": "execute_result"
    }
   ],
   "source": [
    "model.trainable = True\n",
    "\n",
    "model.compile(optimizer=keras.optimizers.Adam(1e-5),  # Very low learning rate\n",
    "              loss=\"sparse_categorical_crossentropy\",\n",
    "              metrics=[\"accuracy\"]\n",
    ")\n",
    "\n",
    "trainModel(model, \"resenet50_transfer_ete\", 20)"
   ]
  },
  {
   "cell_type": "code",
   "execution_count": 37,
   "metadata": {},
   "outputs": [],
   "source": []
  },
  {
   "cell_type": "markdown",
   "metadata": {},
   "source": [
    "# Prediction Area"
   ]
  },
  {
   "cell_type": "code",
   "execution_count": null,
   "metadata": {},
   "outputs": [],
   "source": [
    "# load a model\n",
    "\n",
    "# load an image\n",
    "\n",
    "def print_image(model, img):\n",
    "\timg_array = keras.preprocessing.image.img_to_array(img)\n",
    "\timg_array = tf.expand_dims(img_array, 0)  # Create batch axis\n",
    "\n",
    "\tpredictions = model.predict(img_array)\n",
    "\tfor i in np.argpartition(predictions[0], -3)[-3:]:\n",
    "\t\tprint(class_track[i] + \": \" + str(predictions[0][i]))\n",
    "\tprint(\"---\")\n",
    "\n",
    "\n",
    "images = [\n",
    "\t\"images/2pvptp6z5ul81.jpg\",\n",
    "\t\"images/3o3mq3j5q1j81.jpg\",\n",
    "\t\"images/35w8x7t3tz761.png\",\n",
    "\t\"images/BeWN228.png\",\n",
    "\t\"images/carj0fmcxei81.png\",\n",
    "\t\"images/wyn90upnrwm81.jpg\",\n",
    "\t\"images/yvxknmz03di81.jpg\",\n",
    "]\n",
    "\n",
    "\n",
    "#Load the model\n",
    "model = keras.models.load_model(\"models/resenet50_trans_pooled_v2.h5\")\n",
    "\n",
    "for img_path in images:\n",
    "\timg = keras.preprocessing.image.load_img(\n",
    "\t\timg_path, target_size=image_size\n",
    "\t)\n",
    "\tprint (img_path)\n",
    "\tprint_image(model, img)\n"
   ]
  }
 ],
 "metadata": {
  "interpreter": {
   "hash": "1122e89fe43e8dd2cd7ffbec99af0a55fb1bf71a12cfdaf83edd54c3b1d7c661"
  },
  "kernelspec": {
   "display_name": "Python 3.7.8 64-bit",
   "language": "python",
   "name": "python3"
  },
  "language_info": {
   "codemirror_mode": {
    "name": "ipython",
    "version": 3
   },
   "file_extension": ".py",
   "mimetype": "text/x-python",
   "name": "python",
   "nbconvert_exporter": "python",
   "pygments_lexer": "ipython3",
   "version": "3.9.7"
  },
  "orig_nbformat": 4
 },
 "nbformat": 4,
 "nbformat_minor": 2
}
